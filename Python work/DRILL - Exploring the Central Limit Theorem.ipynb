{
 "cells": [
  {
   "cell_type": "code",
   "execution_count": 20,
   "metadata": {},
   "outputs": [],
   "source": [
    "import numpy as np\n",
    "import pandas as pd\n",
    "import scipy\n",
    "import matplotlib.pyplot as plt\n",
    "%matplotlib inline"
   ]
  },
  {
   "cell_type": "code",
   "execution_count": 21,
   "metadata": {},
   "outputs": [
    {
     "name": "stdout",
     "output_type": "stream",
     "text": [
      " Question 1a: Increase the size of your samples from 100 to 1000, then calculate the means and standard deviations for your new samples and create histograms for each.\n",
      "2.003\n",
      "5.067\n",
      "1.2957588510212845\n",
      "1.5730578501758923\n",
      "3.064\n"
     ]
    },
    {
     "data": {
      "image/png": "[encoded data removed]",
      "text/plain": [
       "<matplotlib.figure.Figure at 0x1c8044c4898>"
      ]
     },
     "metadata": {},
     "output_type": "display_data"
    }
   ],
   "source": [
    "print(\"\"\" Question 1a: Increase the size of your samples from 100 to 1000, then calculate the means and standard deviations for your new samples and create histograms for each.\"\"\")\n",
    "\n",
    "\n",
    "# Sample sizes 1000\n",
    "Q1a_pop1 = np.random.binomial(10, 0.2, 10000)\n",
    "Q1a_pop2 = np.random.binomial(10,0.5, 10000) \n",
    "\n",
    "Q1a_sample1 = np.random.choice(pop1, 1000, replace=True)\n",
    "Q1a_sample2 = np.random.choice(pop2, 1000, replace=True)\n",
    "\n",
    "print(Q1a_sample1.mean())\n",
    "print(Q1a_sample2.mean())\n",
    "print(Q1a_sample1.std())\n",
    "print(Q1a_sample2.std())\n",
    "\n",
    "# Compute the difference between the two sample means.\n",
    "Q1a_diff=Q1a_sample2.mean( ) -Q1a_sample1.mean()\n",
    "print(Q1a_diff)\n",
    "\n",
    "plt.hist(Q1a_sample1, alpha=0.5, label='sample 1') \n",
    "plt.hist(Q1a_sample2, alpha=0.5, label='sample 2') \n",
    "plt.legend(loc='upper right') \n",
    "plt.show()"
   ]
  },
  {
   "cell_type": "code",
   "execution_count": 22,
   "metadata": {},
   "outputs": [
    {
     "name": "stdout",
     "output_type": "stream",
     "text": [
      " Question 1b: Sample size of 20\n",
      "1.85\n",
      "4.5\n",
      "1.3518505834595773\n",
      "1.2449899597988732\n",
      "2.65\n"
     ]
    },
    {
     "data": {
      "image/png": "[encoded data removed]",
      "text/plain": [
       "<matplotlib.figure.Figure at 0x1c8044f9c88>"
      ]
     },
     "metadata": {},
     "output_type": "display_data"
    }
   ],
   "source": [
    "print(\"\"\" Question 1b: Sample size of 20\"\"\")\n",
    "\n",
    "# Sample sizes 1000\n",
    "Q1b_pop1 = np.random.binomial(10, 0.2, 10000)\n",
    "Q1b_pop2 = np.random.binomial(10,0.5, 10000) \n",
    "\n",
    "Q1b_sample1 = np.random.choice(pop1, 20, replace=True)\n",
    "Q1b_sample2 = np.random.choice(pop2, 20, replace=True)\n",
    "\n",
    "print(Q1b_sample1.mean())\n",
    "print(Q1b_sample2.mean())\n",
    "print(Q1b_sample1.std())\n",
    "print(Q1b_sample2.std())\n",
    "\n",
    "# Compute the difference between the two sample means.\n",
    "Q1b_diff=Q1b_sample2.mean( ) - Q1b_sample1.mean()\n",
    "print(Q1b_diff)\n",
    "\n",
    "plt.hist(Q1b_sample1, alpha=0.5, label='sample 1') \n",
    "plt.hist(Q1b_sample2, alpha=0.5, label='sample 2') \n",
    "plt.legend(loc='upper right') \n",
    "plt.show()"
   ]
  },
  {
   "cell_type": "code",
   "execution_count": 26,
   "metadata": {},
   "outputs": [
    {
     "name": "stdout",
     "output_type": "stream",
     "text": [
      "Difference in sample means and standard deviations between quetions 1a and 1b.\n",
      "Means of Q1a\n",
      "2.003\n",
      "5.067\n",
      "Means of Q1b\n",
      "1.85\n",
      "4.5\n",
      "Difference between Q1a means and Q1b means\n",
      "0.41400000000000015\n",
      "Standard Deviations of Q1a\n",
      "1.2957588510212845\n",
      "1.5730578501758923\n",
      "Standard Deviations of Q1b\n",
      "1.3518505834595773\n",
      "1.2449899597988732\n",
      "The means are slightly lower in the 20 samples compared to 1000 samples.\n"
     ]
    }
   ],
   "source": [
    "print(\"\"\"Difference in sample means and standard deviations between quetions 1a and 1b.\"\"\")\n",
    "print(\"\"\"Means of Q1a\"\"\")\n",
    "print(Q1a_sample1.mean()) #Q1a_sample1 mean\n",
    "print(Q1a_sample2.mean()) #Q1a_sample2 mean\n",
    "print(\"\"\"Means of Q1b\"\"\")\n",
    "print(Q1b_sample1.mean()) #Q1b_sample1 mean\n",
    "print(Q1b_sample2.mean()) #Q1b_sample2 mean\n",
    "\n",
    "print(\"\"\"Difference between Q1a means and Q1b means\"\"\")\n",
    "print(Q1a_diff - Q1b_diff) #differences in means between 1000 sample and 20 sample\n",
    "\n",
    "print(\"\"\"Standard Deviations of Q1a\"\"\")\n",
    "print(Q1a_sample1.std()) #Q1a_sample1 standard deviation\n",
    "print(Q1a_sample2.std())\n",
    "print(\"\"\"Standard Deviations of Q1b\"\"\")\n",
    "print(Q1b_sample1.std())\n",
    "print(Q1b_sample2.std())\n",
    "\n",
    "\n",
    "\n",
    "print(\"\"\"The means are slightly lower in the 20 samples compared to 1000 samples.\"\"\")\n"
   ]
  },
  {
   "cell_type": "code",
   "execution_count": 25,
   "metadata": {},
   "outputs": [
    {
     "data": {
      "image/png": "[encoded data removed]",
      "text/plain": [
       "<matplotlib.figure.Figure at 0x1c80457f668>"
      ]
     },
     "metadata": {},
     "output_type": "display_data"
    }
   ],
   "source": [
    "plt.hist(Q1a_sample1, alpha=0.5, label='Q1a_sample 1') \n",
    "plt.hist(Q1a_sample2, alpha=0.5, label='Q1a_sample 2') \n",
    "plt.hist(Q1b_sample1, alpha=0.5, label='Q1b_sample 1') \n",
    "plt.hist(Q1b_sample2, alpha=0.5, label='Q1b_sample 2') \n",
    "plt.legend(loc='upper right') \n",
    "plt.show()\n",
    "\n",
    "print(\"\"\"When plotting the histograms of Q1a and Q1b, the counts are so small within the 20 samples.\"\"\")\n",
    "print(\"\"\"With very small samples in Q1b it is very difficult to get an acturate picture of the sample distributions.\"\"\")"
   ]
  },
  {
   "cell_type": "code",
   "execution_count": 31,
   "metadata": {},
   "outputs": [
    {
     "name": "stdout",
     "output_type": "stream",
     "text": [
      "Question 2a: Change the probability value (p in the NumPy documentation) for pop1 to 0.3, then take new samples and compute the t-statistic and p-value.\n",
      "Ttest_indResult(statistic=8.061816106933613, pvalue=7.100583069898235e-14)\n"
     ]
    }
   ],
   "source": [
    "print(\"\"\"Question 2a: Change the probability value (p in the NumPy documentation) for pop1 to 0.3, then take new samples and compute the t-statistic and p-value.\"\"\")\n",
    "\n",
    "# Pop1 p = .3\n",
    "pop1 = np.random.binomial(10, 0.3, 10000)\n",
    "pop2 = np.random.binomial(10,0.5, 10000) \n",
    "\n",
    "sample1 = np.random.choice(pop1, 100, replace=True)\n",
    "sample2 = np.random.choice(pop2, 100, replace=True)\n",
    "\n",
    "from scipy.stats import ttest_ind\n",
    "print(ttest_ind(sample2, sample1, equal_var=False))"
   ]
  },
  {
   "cell_type": "code",
   "execution_count": 34,
   "metadata": {},
   "outputs": [
    {
     "name": "stdout",
     "output_type": "stream",
     "text": [
      "Question 2b: Then change the probability value p for group 1 to 0.4, and do it again. What changes, and why?\n",
      "Ttest_indResult(statistic=4.600226964090745, pvalue=7.524097638993603e-06)\n",
      "When the probability value is change from 0.3 to 0.4 it effects both the Ttest value and pvalue. \n",
      "The t-value decreases with larger p and the p-value increases with a large p. The t-value population means of 2 samples, so if the t-value is smaller the difference the two samples are similar.\n",
      "The p-value or probability value points to hypothesis testing whether you accept to reject the null hypothesis.\n",
      "The central limit theorem states that the sampling distribution of the mean of any independent, random variable will be normal or nearly normal, if the sample size is large enough. \n",
      "Regardless of which distribution is used to evaluate the population sample.\n"
     ]
    }
   ],
   "source": [
    "print(\"\"\"Question 2b: Then change the probability value p for group 1 to 0.4, and do it again. What changes, and why?\"\"\")\n",
    "\n",
    "# Pop1 p = .4\n",
    "pop1 = np.random.binomial(10, 0.4, 10000)\n",
    "pop2 = np.random.binomial(10,0.5, 10000) \n",
    "\n",
    "sample1 = np.random.choice(pop1, 100, replace=True)\n",
    "sample2 = np.random.choice(pop2, 100, replace=True)\n",
    "\n",
    "from scipy.stats import ttest_ind\n",
    "print(ttest_ind(sample2, sample1, equal_var=False))\n",
    "\n",
    "print(\"\"\"When the probability value is change from 0.3 to 0.4 it effects both the Ttest value and pvalue. \n",
    "The t-value decreases with larger p and the p-value increases with a large p. The t-value population means of 2 samples, so if the t-value is smaller the difference the two samples are similar.\n",
    "The p-value or probability value points to hypothesis testing whether you accept to reject the null hypothesis.\"\"\")\n",
    "\n",
    "print(\"\"\"The central limit theorem states that the sampling distribution of the mean of any independent, random variable will be normal or nearly normal, if the sample size is large enough. \"\"\")\n",
    "print(\"\"\"Regardless of which distribution is used to evaluate the population sample.\"\"\")"
   ]
  },
  {
   "cell_type": "code",
   "execution_count": 36,
   "metadata": {},
   "outputs": [
    {
     "name": "stdout",
     "output_type": "stream",
     "text": [
      " Question 3: Change the distribution of your populations from binomial to a distribution of your choice. Do the sample mean values still accurately represent the population values?\n",
      "3.934\n",
      "5.031\n",
      "1.51513827751793\n",
      "1.5588582360176308\n",
      "1.0969999999999995\n"
     ]
    },
    {
     "data": {
      "image/png": "[encoded data removed]",
      "text/plain": [
       "<matplotlib.figure.Figure at 0x1c804b988d0>"
      ]
     },
     "metadata": {},
     "output_type": "display_data"
    }
   ],
   "source": [
    "print(\"\"\" Question 3: Change the distribution of your populations from binomial to a distribution of your choice. Do the sample mean values still accurately represent the population values?\"\"\")\n",
    "\n",
    "\n",
    "\n",
    "# Sample sizes 1000\n",
    "Q3_pop1 = np.random.gamma(10, 0.2, 10000)\n",
    "Q3_pop2 = np.random.gamma(10,0.5, 10000) \n",
    "\n",
    "Q3_sample1 = np.random.choice(pop1, 1000, replace=True)\n",
    "Q3_sample2 = np.random.choice(pop2, 1000, replace=True)\n",
    "\n",
    "print(Q3_sample1.mean())\n",
    "print(Q3_sample2.mean())\n",
    "print(Q3_sample1.std())\n",
    "print(Q3_sample2.std())\n",
    "\n",
    "# Compute the difference between the two sample means.\n",
    "diff=Q3_sample2.mean( ) -Q3_sample1.mean()\n",
    "print(diff)\n",
    "\n",
    "plt.hist(Q3_sample1, alpha=0.5, label='Q3_sample 1') \n",
    "plt.hist(Q3_sample2, alpha=0.5, label='Q3_sample 2') \n",
    "plt.legend(loc='upper right') \n",
    "plt.show()"
   ]
  },
  {
   "cell_type": "code",
   "execution_count": 38,
   "metadata": {},
   "outputs": [
    {
     "name": "stdout",
     "output_type": "stream",
     "text": [
      "Comparing binomial distributions in Q1a sample of 1000 and Q1b sample of 20 to Q3 which is a gamma distribution.\n"
     ]
    },
    {
     "data": {
      "image/png": "[encoded data removed]",
      "text/plain": [
       "<matplotlib.figure.Figure at 0x1c804c434e0>"
      ]
     },
     "metadata": {},
     "output_type": "display_data"
    }
   ],
   "source": [
    "print(\"\"\"Comparing binomial distributions in Q1a sample of 1000 and Q1b sample of 20 to Q3 which is a gamma distribution.\"\"\")\n",
    "\n",
    "plt.hist(Q1a_sample1, alpha=0.5, label='Q1a_sample 1') \n",
    "plt.hist(Q1a_sample2, alpha=0.5, label='Q1a_sample 2') \n",
    "plt.hist(Q1b_sample1, alpha=0.5, label='Q1b_sample 1') \n",
    "plt.hist(Q1b_sample2, alpha=0.5, label='Q1b_sample 2')\n",
    "plt.hist(Q3_sample1, alpha=0.5, label='Q3_sample 1') \n",
    "plt.hist(Q3_sample2, alpha=0.5, label='Q3_sample 2') \n",
    "plt.legend(loc='upper right') \n",
    "plt.show()"
   ]
  },
  {
   "cell_type": "code",
   "execution_count": null,
   "metadata": {},
   "outputs": [],
   "source": []
  }
 ],
 "metadata": {
  "kernelspec": {
   "display_name": "Python 3",
   "language": "python",
   "name": "python3"
  },
  "language_info": {
   "codemirror_mode": {
    "name": "ipython",
    "version": 3
   },
   "file_extension": ".py",
   "mimetype": "text/x-python",
   "name": "python",
   "nbconvert_exporter": "python",
   "pygments_lexer": "ipython3",
   "version": "3.6.5"
  }
 },
 "nbformat": 4,
 "nbformat_minor": 2
}
