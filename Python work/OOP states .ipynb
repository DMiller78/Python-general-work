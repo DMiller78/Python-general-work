{
 "cells": [
  {
   "cell_type": "code",
   "execution_count": 57,
   "metadata": {},
   "outputs": [
    {
     "name": "stdout",
     "output_type": "stream",
     "text": [
      "California\n",
      "Sacramento\n",
      "39536653\n",
      "California population % of the US\n",
      "12.070811555196805\n",
      "---------\n",
      "Texas\n",
      "Austin\n",
      "28304596\n",
      "Texas population % of the US\n",
      "8.641587452078387\n",
      "---------\n",
      "Florida\n",
      "Tallahassee\n",
      "20984400\n",
      "Florida population % of the US\n",
      "6.406681364729377\n",
      "---------\n",
      "New York\n",
      "Albany\n",
      "19849399\n",
      "New York population % of the US\n",
      "6.060157768360208\n",
      "---------\n",
      "Pennsylvannia\n",
      "Harrisburg\n",
      "12805537\n",
      "Pennsylvannia population % of the US\n",
      "3.909618348070593\n",
      "---------\n",
      "Illinois\n",
      "Springfield\n",
      "12768323\n",
      "Illinois population % of the US\n",
      "3.8982566584198497\n",
      "---------\n",
      "Illinois\n",
      "Springfield\n",
      "12768323\n",
      "Illinois population % of the US\n",
      "3.8982566584198497\n",
      "---------\n"
     ]
    }
   ],
   "source": [
    "class State(object):\n",
    "\n",
    "    def __init__(self, state_name, capital, state_pop):\n",
    "        self.state_name = state_name\n",
    "        self.capital = capital\n",
    "        self.state_pop = state_pop\n",
    "\n",
    "    def print_description(self):\n",
    "        print(self.state_name) \n",
    "        print(self.capital)\n",
    "        print(self.state_pop)\n",
    "        print(\"{} population % of the US\".format(self.state_name)) #title \n",
    "        \n",
    "        us_pop = 327539311\n",
    "        print((self.state_pop/us_pop)*100)\n",
    "        print(\"---------\")\n",
    "        \n",
    "    \n",
    "top_5_states = [State(\"California\", \"Sacramento\", 39536653), State(\"Texas\", \"Austin\", 28304596), \n",
    "                State(\"Florida\", \"Tallahassee\", 20984400), State(\"New York\", \"Albany\", 19849399), \n",
    "                State(\"Pennsylvannia\", \"Harrisburg\", 12805537), State(\"Illinois\", \"Springfield\", 12768323)]\n",
    "\n",
    "top_5_states.append(State(\"Illinois\", \"Springfield\", 12768323))\n",
    "\n",
    "for s in top_5_states:\n",
    "    s.print_description()\n",
    "    \n",
    "\n",
    "    \n",
    "\n",
    "\n",
    "#getting away from copying and pasting\n",
    "#printing out a description of state and % of US population can change \n",
    "\n",
    "#top 5 states overall % of the US population \n",
    "\n",
    "# top_5_states = ((california.state_pop)+((texas.state_pop)+(florida.state_pop)+(new_york.state_pop)+(pennsylvannia.state_pop)))\n",
    "# print(top_5_states)\n",
    "# print(((top_5_states)/us_pop)*100)\n",
    "\n"
   ]
  },
  {
   "cell_type": "code",
   "execution_count": 32,
   "metadata": {},
   "outputs": [],
   "source": [
    "import matplotlib.pyplot as plt\n",
    "import numpy as np\n",
    "import pandas as pd  \n",
    "\n"
   ]
  },
  {
   "cell_type": "code",
   "execution_count": 45,
   "metadata": {},
   "outputs": [
    {
     "data": {
      "image/png": "[encoded data removed]",
      "text/plain": [
       "<matplotlib.figure.Figure at 0x1812d575160>"
      ]
     },
     "metadata": {},
     "output_type": "display_data"
    }
   ],
   "source": [
    "df=((california.state_pop),(texas.state_pop),(florida.state_pop),(new_york.state_pop),(pennsylvannia.state_pop))\n",
    "\n",
    "plt.hist(df, bins='auto')\n",
    "plt.title(\"Top 5 State Populations\")\n",
    "plt.legend()\n",
    "plt.show()\n"
   ]
  }
 ],
 "metadata": {
  "kernelspec": {
   "display_name": "Python 3",
   "language": "python",
   "name": "python3"
  },
  "language_info": {
   "codemirror_mode": {
    "name": "ipython",
    "version": 3
   },
   "file_extension": ".py",
   "mimetype": "text/x-python",
   "name": "python",
   "nbconvert_exporter": "python",
   "pygments_lexer": "ipython3",
   "version": "3.6.5"
  }
 },
 "nbformat": 4,
 "nbformat_minor": 2
}
