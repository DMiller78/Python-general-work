{
 "cells": [
  {
   "cell_type": "code",
   "execution_count": 1,
   "metadata": {},
   "outputs": [],
   "source": [
    "import numpy as np"
   ]
  },
  {
   "cell_type": "code",
   "execution_count": 5,
   "metadata": {},
   "outputs": [
    {
     "name": "stderr",
     "output_type": "stream",
     "text": [
      "C:\\Users\\mille\\Conda3\\lib\\site-packages\\ipykernel_launcher.py:1: DeprecationWarning: This function is deprecated. Please call randint(1, 3 + 1) instead\n",
      "  \"\"\"Entry point for launching an IPython kernel.\n"
     ]
    },
    {
     "data": {
      "text/plain": [
       "array([[3, 2],\n",
       "       [1, 3],\n",
       "       [1, 3],\n",
       "       [2, 1],\n",
       "       [1, 2]])"
      ]
     },
     "execution_count": 5,
     "metadata": {},
     "output_type": "execute_result"
    }
   ],
   "source": [
    "x = np.random.random_integers(low=1,high=3,size=(5,2))\n",
    "x"
   ]
  },
  {
   "cell_type": "code",
   "execution_count": 6,
   "metadata": {},
   "outputs": [],
   "source": [
    "def monty_hall():\n",
    "    \n",
    "    [[selected_door, winning_door]] = x = np.random.random_integers(low=1,high=3,size=(1,2))\n",
    "    \n",
    "    door_options = [1,2,3]\n",
    "    \n",
    "    if selected_door == winning_door:\n",
    "        \n",
    "        door_options.remove(selected_door)\n",
    "        open_door = np.random.choice(door_options)\n",
    "        \n",
    "        switching_door = door_options.remove(open_door)\n",
    "        \n",
    "    else:\n",
    "        \n",
    "        door_options.remove(selected_door)\n",
    "        door_options.remove(winning_door)\n",
    "        open_door = door_options\n",
    "        \n",
    "        switching_door = winning_door\n",
    "        \n",
    "    if switching_door == winning_door:\n",
    "        switch = 1.\n",
    "        non_switch = 0.\n",
    "    else: \n",
    "        switch = 0.\n",
    "        non_switch = 1. \n",
    "        \n",
    "    return switch, non_switch\n"
   ]
  },
  {
   "cell_type": "code",
   "execution_count": 7,
   "metadata": {},
   "outputs": [],
   "source": [
    "def simulate_monty_hall(simulations):\n",
    "\n",
    "    switching_results = []\n",
    "    not_switching_results = []\n",
    "\n",
    "    for x in range(100):\n",
    "        switch, non_switch = monty_hall()\n",
    "\n",
    "        switching_results.append(switch)\n",
    "        not_switching_results.append(non_switch)\n",
    "        \n",
    "    return switching_results, not_switching_results"
   ]
  },
  {
   "cell_type": "code",
   "execution_count": 8,
   "metadata": {},
   "outputs": [
    {
     "name": "stderr",
     "output_type": "stream",
     "text": [
      "C:\\Users\\mille\\Conda3\\lib\\site-packages\\ipykernel_launcher.py:3: DeprecationWarning: This function is deprecated. Please call randint(1, 3 + 1) instead\n",
      "  This is separate from the ipykernel package so we can avoid doing imports until\n"
     ]
    }
   ],
   "source": [
    "switching_results, not_switching_results = simulate_monty_hall(1000000)\n"
   ]
  },
  {
   "cell_type": "code",
   "execution_count": 10,
   "metadata": {},
   "outputs": [
    {
     "name": "stdout",
     "output_type": "stream",
     "text": [
      "The winning percentage when switching was: 0.58\n",
      "The winning percentage when not switching was 0.42\n"
     ]
    }
   ],
   "source": [
    "print('The winning percentage when switching was: %s' % str(sum(switching_results) / len(switching_results)))\n",
    "print('The winning percentage when not switching was %s' % str(sum(not_switching_results) / len(not_switching_results)))"
   ]
  },
  {
   "cell_type": "code",
   "execution_count": 11,
   "metadata": {},
   "outputs": [],
   "source": [
    "import pandas as pd\n"
   ]
  },
  {
   "cell_type": "code",
   "execution_count": 12,
   "metadata": {},
   "outputs": [
    {
     "name": "stderr",
     "output_type": "stream",
     "text": [
      "C:\\Users\\mille\\Conda3\\lib\\site-packages\\ipykernel_launcher.py:3: DeprecationWarning: This function is deprecated. Please call randint(1, 3 + 1) instead\n",
      "  This is separate from the ipykernel package so we can avoid doing imports until\n"
     ]
    }
   ],
   "source": [
    "switching_results, not_switching_results = simulate_monty_hall(100)\n",
    "df = pd.DataFrame(np.column_stack((switching_results,not_switching_results)) , columns=['switching_win', 'non_switching_win'])"
   ]
  },
  {
   "cell_type": "code",
   "execution_count": 13,
   "metadata": {},
   "outputs": [
    {
     "name": "stderr",
     "output_type": "stream",
     "text": [
      "C:\\Users\\mille\\Conda3\\lib\\site-packages\\ipykernel_launcher.py:1: FutureWarning: pd.expanding_mean is deprecated for Series and will be removed in a future version, replace with \n",
      "\tSeries.expanding(min_periods=1).mean()\n",
      "  \"\"\"Entry point for launching an IPython kernel.\n",
      "C:\\Users\\mille\\Conda3\\lib\\site-packages\\ipykernel_launcher.py:2: FutureWarning: pd.expanding_mean is deprecated for Series and will be removed in a future version, replace with \n",
      "\tSeries.expanding(min_periods=1).mean()\n",
      "  \n"
     ]
    }
   ],
   "source": [
    "df['switch_pct'] = pd.expanding_mean(df['switching_win'], min_periods=1)\n",
    "df['not_switch_pct'] = pd.expanding_mean(df['non_switching_win'], min_periods=1)\n",
    "df = df[['switch_pct', 'not_switch_pct']] * 100\n",
    "df.columns = ['switch doors', 'do not switch doors']"
   ]
  },
  {
   "cell_type": "code",
   "execution_count": 17,
   "metadata": {},
   "outputs": [
    {
     "ename": "ModuleNotFoundError",
     "evalue": "No module named 'libs.chart_format'",
     "output_type": "error",
     "traceback": [
      "\u001b[1;31m---------------------------------------------------------------------------\u001b[0m",
      "\u001b[1;31mModuleNotFoundError\u001b[0m                       Traceback (most recent call last)",
      "\u001b[1;32m<ipython-input-17-35d7a6bb630a>\u001b[0m in \u001b[0;36m<module>\u001b[1;34m()\u001b[0m\n\u001b[0;32m      1\u001b[0m \u001b[1;32mimport\u001b[0m \u001b[0mmatplotlib\u001b[0m\u001b[1;33m.\u001b[0m\u001b[0mpyplot\u001b[0m \u001b[1;32mas\u001b[0m \u001b[0mplt\u001b[0m\u001b[1;33m\u001b[0m\u001b[0m\n\u001b[0;32m      2\u001b[0m \u001b[0mget_ipython\u001b[0m\u001b[1;33m(\u001b[0m\u001b[1;33m)\u001b[0m\u001b[1;33m.\u001b[0m\u001b[0mrun_line_magic\u001b[0m\u001b[1;33m(\u001b[0m\u001b[1;34m'matplotlib'\u001b[0m\u001b[1;33m,\u001b[0m \u001b[1;34m'inline'\u001b[0m\u001b[1;33m)\u001b[0m\u001b[1;33m\u001b[0m\u001b[0m\n\u001b[1;32m----> 3\u001b[1;33m \u001b[1;32mimport\u001b[0m \u001b[0mlibs\u001b[0m\u001b[1;33m.\u001b[0m\u001b[0mchart_format\u001b[0m \u001b[1;32mas\u001b[0m \u001b[0mchart_format\u001b[0m\u001b[1;33m\u001b[0m\u001b[0m\n\u001b[0m",
      "\u001b[1;31mModuleNotFoundError\u001b[0m: No module named 'libs.chart_format'"
     ]
    }
   ],
   "source": [
    "import matplotlib.pyplot as plt \n",
    "%matplotlib inline\n",
    "import libs.chart_format as chart_format"
   ]
  },
  {
   "cell_type": "code",
   "execution_count": null,
   "metadata": {},
   "outputs": [],
   "source": [
    "reload(chart_format)\n",
    "fig = chart_format.format_line_chart(df,title = \"winning percentages for each choice\")"
   ]
  }
 ],
 "metadata": {
  "kernelspec": {
   "display_name": "Python 3",
   "language": "python",
   "name": "python3"
  },
  "language_info": {
   "codemirror_mode": {
    "name": "ipython",
    "version": 3
   },
   "file_extension": ".py",
   "mimetype": "text/x-python",
   "name": "python",
   "nbconvert_exporter": "python",
   "pygments_lexer": "ipython3",
   "version": "3.6.5"
  }
 },
 "nbformat": 4,
 "nbformat_minor": 2
}
