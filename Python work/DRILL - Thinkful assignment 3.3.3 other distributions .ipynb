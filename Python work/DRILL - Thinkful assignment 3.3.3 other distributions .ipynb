{
 "cells": [
  {
   "cell_type": "code",
   "execution_count": 40,
   "metadata": {},
   "outputs": [
    {
     "data": {
      "image/png": "[encoded data removed]",
      "text/plain": [
       "<matplotlib.figure.Figure at 0x23215c70588>"
      ]
     },
     "metadata": {},
     "output_type": "display_data"
    },
    {
     "name": "stdout",
     "output_type": "stream",
     "text": [
      "Normal distribution histogram, the red lines indicate the std above and below the mean as the black line\n",
      "In a normal distribution the data is more evenly distrubted. There are clear intervals in std above and below the mean\n"
     ]
    }
   ],
   "source": [
    "import numpy as np\n",
    "import matplotlib.pyplot as plt\n",
    "var_normal1 = np.random.normal(5,.5, 100)\n",
    "var_normal2 = np.random.normal(10,1, 100)\n",
    "var_normal3 = var_normal1 + var_normal2\n",
    "\n",
    "mean = np.mean(var_normal3)\n",
    "sd = np.std(var_normal3)\n",
    "\n",
    "plt.hist(var_normal3)\n",
    "plt.axvline(x=mean,color='black')\n",
    "plt.axvline(x=mean+sd, color='red')\n",
    "plt.axvline(x=mean-sd, color='red')\n",
    "plt.show()\n",
    "print('Normal distribution histogram, the red lines indicate the std above and below the mean as the black line')\n",
    "print('In a normal distribution the data is more evenly distrubted. There are clear intervals in std above and below the mean')"
   ]
  },
  {
   "cell_type": "code",
   "execution_count": 46,
   "metadata": {},
   "outputs": [
    {
     "data": {
      "image/png": "[encoded data removed]",
      "text/plain": [
       "<matplotlib.figure.Figure at 0x2321704b438>"
      ]
     },
     "metadata": {},
     "output_type": "display_data"
    },
    {
     "name": "stdout",
     "output_type": "stream",
     "text": [
      "Binomial distribution histogram, the red lines indicate the std above and below the mean as the black line\n",
      "Biominal distrubution breaks into disctinct groupings because it is measuring count events.\n"
     ]
    }
   ],
   "source": [
    "import numpy as np\n",
    "import matplotlib.pyplot as plt\n",
    "var_binomial1 = np.random.binomial(5,.5, 100)\n",
    "var_binomial2 = np.random.binomial(10,1, 100)\n",
    "var_binomial3 = var_binomial1 + var_binomial2\n",
    "\n",
    "mean = np.mean(var_binomial3)\n",
    "sd = np.std(var_binomial3)\n",
    "\n",
    "plt.hist(var_binomial3)\n",
    "plt.axvline(x=mean,color='black')\n",
    "plt.axvline(x=mean+sd, color='red')\n",
    "plt.axvline(x=mean-sd, color='red')\n",
    "plt.show()\n",
    "print('Binomial distribution histogram, the red lines indicate the std above and below the mean as the black line')\n",
    "print('Biominal distrubution breaks into disctinct groupings because it is measuring count events.')"
   ]
  },
  {
   "cell_type": "code",
   "execution_count": 42,
   "metadata": {},
   "outputs": [
    {
     "data": {
      "image/png": "[encoded data removed]",
      "text/plain": [
       "<matplotlib.figure.Figure at 0x2321712c2b0>"
      ]
     },
     "metadata": {},
     "output_type": "display_data"
    },
    {
     "name": "stdout",
     "output_type": "stream",
     "text": [
      "In the Gamma distrubtion using is a waiting time model the distrubtion is skewed asystemtically\n"
     ]
    }
   ],
   "source": [
    "import numpy as np\n",
    "import matplotlib.pyplot as plt\n",
    "var_gamma1 = np.random.gamma(5,.5, 100)\n",
    "var_gamma2 = np.random.gamma(10,1, 100)\n",
    "var_gamma3 = var_gamma1+var_gamma2\n",
    "\n",
    "mean = np.mean(var_gamma3)\n",
    "sd = np.std(var_gamma3)\n",
    "\n",
    "plt.hist(var_gamma3)\n",
    "plt.axvline(x=mean,color='black')\n",
    "plt.axvline(x=mean+sd, color='red')\n",
    "plt.axvline(x=mean-sd, color='red')\n",
    "plt.show()\n",
    "print('In the Gamma distrubtion using is a waiting time model the distrubtion is skewed asystemtically')\n"
   ]
  },
  {
   "cell_type": "code",
   "execution_count": 48,
   "metadata": {},
   "outputs": [
    {
     "data": {
      "image/png": "[encoded data removed]",
      "text/plain": [
       "<matplotlib.figure.Figure at 0x23215ca6dd8>"
      ]
     },
     "metadata": {},
     "output_type": "display_data"
    },
    {
     "name": "stdout",
     "output_type": "stream",
     "text": [
      "Poisson distribution is similar to binomial where it is measuring count events.\n",
      "Poisson distribution does not have an upper limit constraining the model.\n",
      "Changing the lambda changes the shape and skew of the poisson distribution.\n"
     ]
    }
   ],
   "source": [
    "import numpy as np\n",
    "import matplotlib.pyplot as plt\n",
    "var_poisson1 = np.random.poisson(5, 100)\n",
    "var_poisson2 = np.random.poisson(10,100)\n",
    "var_poisson3 = var_poisson1+var_poisson2\n",
    " \n",
    "mean = np.mean(var_poisson3)\n",
    "sd = np.std(var_poisson3)\n",
    "\n",
    "plt.hist(var_poisson3)\n",
    "plt.axvline(x=mean,color='black')\n",
    "plt.axvline(x=mean+sd, color='red')\n",
    "plt.axvline(x=mean-sd, color='red')\n",
    "plt.show()\n",
    "print('Poisson distribution is similar to binomial where it is measuring count events.')\n",
    "print('Poisson distribution does not have an upper limit constraining the model.')\n",
    "print('Changing the lambda changes the shape and skew of the poisson distribution.')"
   ]
  },
  {
   "cell_type": "code",
   "execution_count": null,
   "metadata": {},
   "outputs": [],
   "source": []
  }
 ],
 "metadata": {
  "kernelspec": {
   "display_name": "Python 3",
   "language": "python",
   "name": "python3"
  },
  "language_info": {
   "codemirror_mode": {
    "name": "ipython",
    "version": 3
   },
   "file_extension": ".py",
   "mimetype": "text/x-python",
   "name": "python",
   "nbconvert_exporter": "python",
   "pygments_lexer": "ipython3",
   "version": "3.6.5"
  }
 },
 "nbformat": 4,
 "nbformat_minor": 2
}
