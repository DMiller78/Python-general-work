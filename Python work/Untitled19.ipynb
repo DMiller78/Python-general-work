{
 "cells": [
  {
   "cell_type": "code",
   "execution_count": 1,
   "metadata": {},
   "outputs": [
    {
     "name": "stdout",
     "output_type": "stream",
     "text": [
      "1904 is a leap year\n"
     ]
    }
   ],
   "source": [
    "year = 1904\n",
    "if not year % 400:\n",
    " is_leap_year = True\n",
    "elif not year % 100:\n",
    " is_leap_year = False\n",
    "elif not year % 4:\n",
    " is_leap_year = True\n",
    "else:\n",
    " is_leap_year = False\n",
    "\n",
    "s_ly = 'is a' if is_leap_year else 'is not a'\n",
    "print('{:4d} {:s} leap year'.format(year, s_ly))\n",
    "\n"
   ]
  },
  {
   "cell_type": "code",
   "execution_count": null,
   "metadata": {},
   "outputs": [],
   "source": [
    "def is_leap_year(year): #input to the function year\n",
    "    if not year % 400:\n",
    "        result = True\n",
    "    elif not year % 100:\n",
    "        result = False\n",
    "    \n",
    "     \n",
    "    "
   ]
  },
  {
   "cell_type": "code",
   "execution_count": 7,
   "metadata": {},
   "outputs": [
    {
     "data": {
      "text/plain": [
       "304"
      ]
     },
     "execution_count": 7,
     "metadata": {},
     "output_type": "execute_result"
    }
   ],
   "source": [
    " 1904%400"
   ]
  },
  {
   "cell_type": "code",
   "execution_count": null,
   "metadata": {},
   "outputs": [],
   "source": []
  }
 ],
 "metadata": {
  "kernelspec": {
   "display_name": "Python 3",
   "language": "python",
   "name": "python3"
  },
  "language_info": {
   "codemirror_mode": {
    "name": "ipython",
    "version": 3
   },
   "file_extension": ".py",
   "mimetype": "text/x-python",
   "name": "python",
   "nbconvert_exporter": "python",
   "pygments_lexer": "ipython3",
   "version": "3.6.5"
  }
 },
 "nbformat": 4,
 "nbformat_minor": 2
}
