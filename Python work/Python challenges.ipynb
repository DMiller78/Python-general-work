{
 "cells": [
  {
   "cell_type": "code",
   "execution_count": 7,
   "metadata": {},
   "outputs": [
    {
     "name": "stdout",
     "output_type": "stream",
     "text": [
      "{'a': 8, 'e': 13, 'i': 8, 'o': 6, 'u': 4}\n"
     ]
    },
    {
     "data": {
      "text/plain": [
       "{'a': 8, 'e': 13, 'i': 8, 'o': 6, 'u': 4}"
      ]
     },
     "execution_count": 7,
     "metadata": {},
     "output_type": "execute_result"
    }
   ],
   "source": [
    "def letter_counter(path_to_file, letters_to_count): #function def ___name of function__ ()\n",
    "    text = []\n",
    "    letters = letters_to_count.split()\n",
    "    output= {}\n",
    "    for letter in letters_to_count:\n",
    "        count = path_to_file.count(letter)\n",
    "        output[letter] = count\n",
    "    print (output)\n",
    "    return output\n",
    "\n",
    "sentence = 'People have a hard time letting go of their suffering. Out of a fear of the unknown, they prefer suffering that is familiar.'\n",
    "\n",
    "letter_counter(sentence, 'aeiou')\n",
    "\n"
   ]
  },
  {
   "cell_type": "code",
   "execution_count": 26,
   "metadata": {},
   "outputs": [
    {
     "name": "stdout",
     "output_type": "stream",
     "text": [
      "[0]\n",
      "<function remove_item at 0x0000023C10516378>\n"
     ]
    }
   ],
   "source": [
    "#challenge 2\n",
    "#when setting up lists you can name them whatever???\n",
    "def remove_item(list_items, item_to_remove): #understand how to set up line 2\n",
    "    dump_list = [] #list 1 items to remove \n",
    "    keep_list = [] #list 2 items to keep \n",
    "    for item in list_items:\n",
    "        if len(dump_list) > 0:\n",
    "            keep_list.append(item)\n",
    "    else:\n",
    "        if item == item_to_remove:\n",
    "            dump_list.append(item)\n",
    "        else:\n",
    "            keep_list.append(item)\n",
    "    list_items = keep_list\n",
    "    print (list_items)\n",
    "      \n",
    "list_items = [1,3,7,7,8,0]\n",
    "\n",
    "remove_item(list_items, 3)\n",
    "print(remove_item)"
   ]
  },
  {
   "cell_type": "code",
   "execution_count": null,
   "metadata": {},
   "outputs": [],
   "source": []
  },
  {
   "cell_type": "code",
   "execution_count": null,
   "metadata": {},
   "outputs": [],
   "source": []
  }
 ],
 "metadata": {
  "kernelspec": {
   "display_name": "Python 3",
   "language": "python",
   "name": "python3"
  },
  "language_info": {
   "codemirror_mode": {
    "name": "ipython",
    "version": 3
   },
   "file_extension": ".py",
   "mimetype": "text/x-python",
   "name": "python",
   "nbconvert_exporter": "python",
   "pygments_lexer": "ipython3",
   "version": "3.6.5"
  }
 },
 "nbformat": 4,
 "nbformat_minor": 2
}
