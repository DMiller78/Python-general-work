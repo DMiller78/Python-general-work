{
 "cells": [
  {
   "cell_type": "code",
   "execution_count": 1,
   "metadata": {},
   "outputs": [],
   "source": [
    "import numpy as np\n",
    "import pandas as pd\n",
    "import matplotlib.pyplot as plt\n",
    "%matplotlib inline"
   ]
  },
  {
   "cell_type": "code",
   "execution_count": 2,
   "metadata": {},
   "outputs": [
    {
     "data": {
      "image/png": "[encoded data removed]",
      "text/plain": [
       "<matplotlib.figure.Figure at 0x2392e9d47b8>"
      ]
     },
     "metadata": {},
     "output_type": "display_data"
    }
   ],
   "source": [
    "# Making a standard normally distributed variable with 1000 observations, a mean of 0, and \n",
    "# a standard deviation of 1, and putting it in a data frame.\n",
    "mean = 0 \n",
    "sd = 1\n",
    "n = 1000\n",
    "\n",
    "df = pd.DataFrame({'rand': np.random.normal(mean, sd, 1000)})\n",
    "\n",
    "# Plotting the variables in the data frame (here, just the variable \"rand\") as a histogram.\n",
    "df.hist()\n",
    "# Inline printing the histogram\n",
    "plt.show()"
   ]
  },
  {
   "cell_type": "code",
   "execution_count": 3,
   "metadata": {},
   "outputs": [],
   "source": [
    "import numpy as np\n",
    "import pandas as pd\n",
    "import matplotlib.pyplot as plt\n",
    "%matplotlib inline"
   ]
  },
  {
   "cell_type": "code",
   "execution_count": 4,
   "metadata": {},
   "outputs": [],
   "source": [
    "# Making two variables.\n",
    "rand1 = np.random.normal(50, 300, 1000)\n",
    "rand2 = np.random.poisson(1, 1000)\n",
    "\n",
    "# Sorting the values in ascending order.\n",
    "rand1.sort()\n",
    "rand2.sort()\n",
    "\n",
    "# Making a standard normally distributed variable with 1000 observations,\n",
    "# a mean of 0, and standard deviation of 1 that we will use as our “comparison.”\n",
    "norm = np.random.normal(0, 1, 1000)\n",
    "\n",
    "# Sorting the values in ascending order.\n",
    "norm.sort()"
   ]
  },
  {
   "cell_type": "code",
   "execution_count": 5,
   "metadata": {},
   "outputs": [
    {
     "data": {
      "image/png": "[encoded data removed]",
      "text/plain": [
       "<matplotlib.figure.Figure at 0x2392bff9320>"
      ]
     },
     "metadata": {},
     "output_type": "display_data"
    }
   ],
   "source": [
    "# Plotting the variable rand1 against norm in qqplots.\n",
    "plt.plot(norm, rand1, \"o\") \n",
    "plt.show() "
   ]
  },
  {
   "cell_type": "code",
   "execution_count": 6,
   "metadata": {},
   "outputs": [
    {
     "data": {
      "image/png": "[encoded data removed]",
      "text/plain": [
       "<matplotlib.figure.Figure at 0x2392ea64908>"
      ]
     },
     "metadata": {},
     "output_type": "display_data"
    }
   ],
   "source": [
    "# Plotting the variable rand2 against norm in qqplots.\n",
    "plt.plot(norm, rand2, \"o\") \n",
    "plt.show()"
   ]
  },
  {
   "cell_type": "code",
   "execution_count": null,
   "metadata": {},
   "outputs": [],
   "source": []
  }
 ],
 "metadata": {
  "kernelspec": {
   "display_name": "Python 3",
   "language": "python",
   "name": "python3"
  },
  "language_info": {
   "codemirror_mode": {
    "name": "ipython",
    "version": 3
   },
   "file_extension": ".py",
   "mimetype": "text/x-python",
   "name": "python",
   "nbconvert_exporter": "python",
   "pygments_lexer": "ipython3",
   "version": "3.6.5"
  }
 },
 "nbformat": 4,
 "nbformat_minor": 2
}
